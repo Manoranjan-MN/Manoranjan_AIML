{
  "nbformat": 4,
  "nbformat_minor": 0,
  "metadata": {
    "colab": {
      "provenance": [],
      "authorship_tag": "ABX9TyNZnQIX5u4EgVct1INaSrYM",
      "include_colab_link": true
    },
    "kernelspec": {
      "name": "python3",
      "display_name": "Python 3"
    },
    "language_info": {
      "name": "python"
    }
  },
  "cells": [
    {
      "cell_type": "markdown",
      "metadata": {
        "id": "view-in-github",
        "colab_type": "text"
      },
      "source": [
        "<a href=\"https://colab.research.google.com/github/Manoranjan-MN/Manoranjan_AIML/blob/main/labsheet3.ipynb\" target=\"_parent\"><img src=\"https://colab.research.google.com/assets/colab-badge.svg\" alt=\"Open In Colab\"/></a>"
      ]
    },
    {
      "cell_type": "code",
      "source": [
        "import numpy as np\n",
        "import pandas as pd\n",
        "import matplotlib.pyplot as plt\n",
        "import seaborn as sns"
      ],
      "metadata": {
        "id": "hv6p08H-vYgL"
      },
      "execution_count": null,
      "outputs": []
    },
    {
      "cell_type": "code",
      "source": [
        "df = pd.read_csv('/advertising.csv')\n",
        "df.head(10)"
      ],
      "metadata": {
        "id": "ejcmtCkoy9Yj",
        "colab": {
          "base_uri": "https://localhost:8080/",
          "height": 363
        },
        "outputId": "bd729421-0788-4825-84d3-a0b135550c78"
      },
      "execution_count": null,
      "outputs": [
        {
          "output_type": "execute_result",
          "data": {
            "text/plain": [
              "      TV  Radio  Newspaper  Sales\n",
              "0  230.1   37.8       69.2   22.1\n",
              "1   44.5   39.3       45.1   10.4\n",
              "2   17.2   45.9       69.3   12.0\n",
              "3  151.5   41.3       58.5   16.5\n",
              "4  180.8   10.8       58.4   17.9\n",
              "5    8.7   48.9       75.0    7.2\n",
              "6   57.5   32.8       23.5   11.8\n",
              "7  120.2   19.6       11.6   13.2\n",
              "8    8.6    2.1        1.0    4.8\n",
              "9  199.8    2.6       21.2   15.6"
            ],
            "text/html": [
              "\n",
              "  <div id=\"df-d767cb2a-a3b5-4c4b-88b1-43736fa05745\" class=\"colab-df-container\">\n",
              "    <div>\n",
              "<style scoped>\n",
              "    .dataframe tbody tr th:only-of-type {\n",
              "        vertical-align: middle;\n",
              "    }\n",
              "\n",
              "    .dataframe tbody tr th {\n",
              "        vertical-align: top;\n",
              "    }\n",
              "\n",
              "    .dataframe thead th {\n",
              "        text-align: right;\n",
              "    }\n",
              "</style>\n",
              "<table border=\"1\" class=\"dataframe\">\n",
              "  <thead>\n",
              "    <tr style=\"text-align: right;\">\n",
              "      <th></th>\n",
              "      <th>TV</th>\n",
              "      <th>Radio</th>\n",
              "      <th>Newspaper</th>\n",
              "      <th>Sales</th>\n",
              "    </tr>\n",
              "  </thead>\n",
              "  <tbody>\n",
              "    <tr>\n",
              "      <th>0</th>\n",
              "      <td>230.1</td>\n",
              "      <td>37.8</td>\n",
              "      <td>69.2</td>\n",
              "      <td>22.1</td>\n",
              "    </tr>\n",
              "    <tr>\n",
              "      <th>1</th>\n",
              "      <td>44.5</td>\n",
              "      <td>39.3</td>\n",
              "      <td>45.1</td>\n",
              "      <td>10.4</td>\n",
              "    </tr>\n",
              "    <tr>\n",
              "      <th>2</th>\n",
              "      <td>17.2</td>\n",
              "      <td>45.9</td>\n",
              "      <td>69.3</td>\n",
              "      <td>12.0</td>\n",
              "    </tr>\n",
              "    <tr>\n",
              "      <th>3</th>\n",
              "      <td>151.5</td>\n",
              "      <td>41.3</td>\n",
              "      <td>58.5</td>\n",
              "      <td>16.5</td>\n",
              "    </tr>\n",
              "    <tr>\n",
              "      <th>4</th>\n",
              "      <td>180.8</td>\n",
              "      <td>10.8</td>\n",
              "      <td>58.4</td>\n",
              "      <td>17.9</td>\n",
              "    </tr>\n",
              "    <tr>\n",
              "      <th>5</th>\n",
              "      <td>8.7</td>\n",
              "      <td>48.9</td>\n",
              "      <td>75.0</td>\n",
              "      <td>7.2</td>\n",
              "    </tr>\n",
              "    <tr>\n",
              "      <th>6</th>\n",
              "      <td>57.5</td>\n",
              "      <td>32.8</td>\n",
              "      <td>23.5</td>\n",
              "      <td>11.8</td>\n",
              "    </tr>\n",
              "    <tr>\n",
              "      <th>7</th>\n",
              "      <td>120.2</td>\n",
              "      <td>19.6</td>\n",
              "      <td>11.6</td>\n",
              "      <td>13.2</td>\n",
              "    </tr>\n",
              "    <tr>\n",
              "      <th>8</th>\n",
              "      <td>8.6</td>\n",
              "      <td>2.1</td>\n",
              "      <td>1.0</td>\n",
              "      <td>4.8</td>\n",
              "    </tr>\n",
              "    <tr>\n",
              "      <th>9</th>\n",
              "      <td>199.8</td>\n",
              "      <td>2.6</td>\n",
              "      <td>21.2</td>\n",
              "      <td>15.6</td>\n",
              "    </tr>\n",
              "  </tbody>\n",
              "</table>\n",
              "</div>\n",
              "    <div class=\"colab-df-buttons\">\n",
              "\n",
              "  <div class=\"colab-df-container\">\n",
              "    <button class=\"colab-df-convert\" onclick=\"convertToInteractive('df-d767cb2a-a3b5-4c4b-88b1-43736fa05745')\"\n",
              "            title=\"Convert this dataframe to an interactive table.\"\n",
              "            style=\"display:none;\">\n",
              "\n",
              "  <svg xmlns=\"http://www.w3.org/2000/svg\" height=\"24px\" viewBox=\"0 -960 960 960\">\n",
              "    <path d=\"M120-120v-720h720v720H120Zm60-500h600v-160H180v160Zm220 220h160v-160H400v160Zm0 220h160v-160H400v160ZM180-400h160v-160H180v160Zm440 0h160v-160H620v160ZM180-180h160v-160H180v160Zm440 0h160v-160H620v160Z\"/>\n",
              "  </svg>\n",
              "    </button>\n",
              "\n",
              "  <style>\n",
              "    .colab-df-container {\n",
              "      display:flex;\n",
              "      gap: 12px;\n",
              "    }\n",
              "\n",
              "    .colab-df-convert {\n",
              "      background-color: #E8F0FE;\n",
              "      border: none;\n",
              "      border-radius: 50%;\n",
              "      cursor: pointer;\n",
              "      display: none;\n",
              "      fill: #1967D2;\n",
              "      height: 32px;\n",
              "      padding: 0 0 0 0;\n",
              "      width: 32px;\n",
              "    }\n",
              "\n",
              "    .colab-df-convert:hover {\n",
              "      background-color: #E2EBFA;\n",
              "      box-shadow: 0px 1px 2px rgba(60, 64, 67, 0.3), 0px 1px 3px 1px rgba(60, 64, 67, 0.15);\n",
              "      fill: #174EA6;\n",
              "    }\n",
              "\n",
              "    .colab-df-buttons div {\n",
              "      margin-bottom: 4px;\n",
              "    }\n",
              "\n",
              "    [theme=dark] .colab-df-convert {\n",
              "      background-color: #3B4455;\n",
              "      fill: #D2E3FC;\n",
              "    }\n",
              "\n",
              "    [theme=dark] .colab-df-convert:hover {\n",
              "      background-color: #434B5C;\n",
              "      box-shadow: 0px 1px 3px 1px rgba(0, 0, 0, 0.15);\n",
              "      filter: drop-shadow(0px 1px 2px rgba(0, 0, 0, 0.3));\n",
              "      fill: #FFFFFF;\n",
              "    }\n",
              "  </style>\n",
              "\n",
              "    <script>\n",
              "      const buttonEl =\n",
              "        document.querySelector('#df-d767cb2a-a3b5-4c4b-88b1-43736fa05745 button.colab-df-convert');\n",
              "      buttonEl.style.display =\n",
              "        google.colab.kernel.accessAllowed ? 'block' : 'none';\n",
              "\n",
              "      async function convertToInteractive(key) {\n",
              "        const element = document.querySelector('#df-d767cb2a-a3b5-4c4b-88b1-43736fa05745');\n",
              "        const dataTable =\n",
              "          await google.colab.kernel.invokeFunction('convertToInteractive',\n",
              "                                                    [key], {});\n",
              "        if (!dataTable) return;\n",
              "\n",
              "        const docLinkHtml = 'Like what you see? Visit the ' +\n",
              "          '<a target=\"_blank\" href=https://colab.research.google.com/notebooks/data_table.ipynb>data table notebook</a>'\n",
              "          + ' to learn more about interactive tables.';\n",
              "        element.innerHTML = '';\n",
              "        dataTable['output_type'] = 'display_data';\n",
              "        await google.colab.output.renderOutput(dataTable, element);\n",
              "        const docLink = document.createElement('div');\n",
              "        docLink.innerHTML = docLinkHtml;\n",
              "        element.appendChild(docLink);\n",
              "      }\n",
              "    </script>\n",
              "  </div>\n",
              "\n",
              "\n",
              "<div id=\"df-8faad3b7-3217-4b5b-a9af-f5b2b028730c\">\n",
              "  <button class=\"colab-df-quickchart\" onclick=\"quickchart('df-8faad3b7-3217-4b5b-a9af-f5b2b028730c')\"\n",
              "            title=\"Suggest charts\"\n",
              "            style=\"display:none;\">\n",
              "\n",
              "<svg xmlns=\"http://www.w3.org/2000/svg\" height=\"24px\"viewBox=\"0 0 24 24\"\n",
              "     width=\"24px\">\n",
              "    <g>\n",
              "        <path d=\"M19 3H5c-1.1 0-2 .9-2 2v14c0 1.1.9 2 2 2h14c1.1 0 2-.9 2-2V5c0-1.1-.9-2-2-2zM9 17H7v-7h2v7zm4 0h-2V7h2v10zm4 0h-2v-4h2v4z\"/>\n",
              "    </g>\n",
              "</svg>\n",
              "  </button>\n",
              "\n",
              "<style>\n",
              "  .colab-df-quickchart {\n",
              "      --bg-color: #E8F0FE;\n",
              "      --fill-color: #1967D2;\n",
              "      --hover-bg-color: #E2EBFA;\n",
              "      --hover-fill-color: #174EA6;\n",
              "      --disabled-fill-color: #AAA;\n",
              "      --disabled-bg-color: #DDD;\n",
              "  }\n",
              "\n",
              "  [theme=dark] .colab-df-quickchart {\n",
              "      --bg-color: #3B4455;\n",
              "      --fill-color: #D2E3FC;\n",
              "      --hover-bg-color: #434B5C;\n",
              "      --hover-fill-color: #FFFFFF;\n",
              "      --disabled-bg-color: #3B4455;\n",
              "      --disabled-fill-color: #666;\n",
              "  }\n",
              "\n",
              "  .colab-df-quickchart {\n",
              "    background-color: var(--bg-color);\n",
              "    border: none;\n",
              "    border-radius: 50%;\n",
              "    cursor: pointer;\n",
              "    display: none;\n",
              "    fill: var(--fill-color);\n",
              "    height: 32px;\n",
              "    padding: 0;\n",
              "    width: 32px;\n",
              "  }\n",
              "\n",
              "  .colab-df-quickchart:hover {\n",
              "    background-color: var(--hover-bg-color);\n",
              "    box-shadow: 0 1px 2px rgba(60, 64, 67, 0.3), 0 1px 3px 1px rgba(60, 64, 67, 0.15);\n",
              "    fill: var(--button-hover-fill-color);\n",
              "  }\n",
              "\n",
              "  .colab-df-quickchart-complete:disabled,\n",
              "  .colab-df-quickchart-complete:disabled:hover {\n",
              "    background-color: var(--disabled-bg-color);\n",
              "    fill: var(--disabled-fill-color);\n",
              "    box-shadow: none;\n",
              "  }\n",
              "\n",
              "  .colab-df-spinner {\n",
              "    border: 2px solid var(--fill-color);\n",
              "    border-color: transparent;\n",
              "    border-bottom-color: var(--fill-color);\n",
              "    animation:\n",
              "      spin 1s steps(1) infinite;\n",
              "  }\n",
              "\n",
              "  @keyframes spin {\n",
              "    0% {\n",
              "      border-color: transparent;\n",
              "      border-bottom-color: var(--fill-color);\n",
              "      border-left-color: var(--fill-color);\n",
              "    }\n",
              "    20% {\n",
              "      border-color: transparent;\n",
              "      border-left-color: var(--fill-color);\n",
              "      border-top-color: var(--fill-color);\n",
              "    }\n",
              "    30% {\n",
              "      border-color: transparent;\n",
              "      border-left-color: var(--fill-color);\n",
              "      border-top-color: var(--fill-color);\n",
              "      border-right-color: var(--fill-color);\n",
              "    }\n",
              "    40% {\n",
              "      border-color: transparent;\n",
              "      border-right-color: var(--fill-color);\n",
              "      border-top-color: var(--fill-color);\n",
              "    }\n",
              "    60% {\n",
              "      border-color: transparent;\n",
              "      border-right-color: var(--fill-color);\n",
              "    }\n",
              "    80% {\n",
              "      border-color: transparent;\n",
              "      border-right-color: var(--fill-color);\n",
              "      border-bottom-color: var(--fill-color);\n",
              "    }\n",
              "    90% {\n",
              "      border-color: transparent;\n",
              "      border-bottom-color: var(--fill-color);\n",
              "    }\n",
              "  }\n",
              "</style>\n",
              "\n",
              "  <script>\n",
              "    async function quickchart(key) {\n",
              "      const quickchartButtonEl =\n",
              "        document.querySelector('#' + key + ' button');\n",
              "      quickchartButtonEl.disabled = true;  // To prevent multiple clicks.\n",
              "      quickchartButtonEl.classList.add('colab-df-spinner');\n",
              "      try {\n",
              "        const charts = await google.colab.kernel.invokeFunction(\n",
              "            'suggestCharts', [key], {});\n",
              "      } catch (error) {\n",
              "        console.error('Error during call to suggestCharts:', error);\n",
              "      }\n",
              "      quickchartButtonEl.classList.remove('colab-df-spinner');\n",
              "      quickchartButtonEl.classList.add('colab-df-quickchart-complete');\n",
              "    }\n",
              "    (() => {\n",
              "      let quickchartButtonEl =\n",
              "        document.querySelector('#df-8faad3b7-3217-4b5b-a9af-f5b2b028730c button');\n",
              "      quickchartButtonEl.style.display =\n",
              "        google.colab.kernel.accessAllowed ? 'block' : 'none';\n",
              "    })();\n",
              "  </script>\n",
              "</div>\n",
              "\n",
              "    </div>\n",
              "  </div>\n"
            ],
            "application/vnd.google.colaboratory.intrinsic+json": {
              "type": "dataframe",
              "variable_name": "df",
              "summary": "{\n  \"name\": \"df\",\n  \"rows\": 200,\n  \"fields\": [\n    {\n      \"column\": \"TV\",\n      \"properties\": {\n        \"dtype\": \"number\",\n        \"std\": 85.85423631490808,\n        \"min\": 0.7,\n        \"max\": 296.4,\n        \"num_unique_values\": 190,\n        \"samples\": [\n          287.6,\n          286.0,\n          78.2\n        ],\n        \"semantic_type\": \"\",\n        \"description\": \"\"\n      }\n    },\n    {\n      \"column\": \"Radio\",\n      \"properties\": {\n        \"dtype\": \"number\",\n        \"std\": 14.846809176168724,\n        \"min\": 0.0,\n        \"max\": 49.6,\n        \"num_unique_values\": 167,\n        \"samples\": [\n          8.2,\n          36.9,\n          44.5\n        ],\n        \"semantic_type\": \"\",\n        \"description\": \"\"\n      }\n    },\n    {\n      \"column\": \"Newspaper\",\n      \"properties\": {\n        \"dtype\": \"number\",\n        \"std\": 21.778620838522826,\n        \"min\": 0.3,\n        \"max\": 114.0,\n        \"num_unique_values\": 172,\n        \"samples\": [\n          22.3,\n          5.7,\n          17.0\n        ],\n        \"semantic_type\": \"\",\n        \"description\": \"\"\n      }\n    },\n    {\n      \"column\": \"Sales\",\n      \"properties\": {\n        \"dtype\": \"number\",\n        \"std\": 5.283892252561876,\n        \"min\": 1.6,\n        \"max\": 27.0,\n        \"num_unique_values\": 121,\n        \"samples\": [\n          19.8,\n          22.6,\n          17.9\n        ],\n        \"semantic_type\": \"\",\n        \"description\": \"\"\n      }\n    }\n  ]\n}"
            }
          },
          "metadata": {},
          "execution_count": 11
        }
      ]
    },
    {
      "cell_type": "code",
      "source": [
        "df.info()"
      ],
      "metadata": {
        "colab": {
          "base_uri": "https://localhost:8080/"
        },
        "id": "oYhbnYRw3ElR",
        "outputId": "2b47a4ec-6a35-4403-9b92-36b183788c02"
      },
      "execution_count": null,
      "outputs": [
        {
          "output_type": "stream",
          "name": "stdout",
          "text": [
            "<class 'pandas.core.frame.DataFrame'>\n",
            "RangeIndex: 200 entries, 0 to 199\n",
            "Data columns (total 4 columns):\n",
            " #   Column     Non-Null Count  Dtype  \n",
            "---  ------     --------------  -----  \n",
            " 0   TV         200 non-null    float64\n",
            " 1   Radio      200 non-null    float64\n",
            " 2   Newspaper  200 non-null    float64\n",
            " 3   Sales      200 non-null    float64\n",
            "dtypes: float64(4)\n",
            "memory usage: 6.4 KB\n"
          ]
        }
      ]
    },
    {
      "cell_type": "code",
      "source": [
        "print(df.shape)"
      ],
      "metadata": {
        "colab": {
          "base_uri": "https://localhost:8080/"
        },
        "id": "F0cXRN403YD5",
        "outputId": "778ee92f-67c2-4b77-8c4a-87496ce077d6"
      },
      "execution_count": null,
      "outputs": [
        {
          "output_type": "stream",
          "name": "stdout",
          "text": [
            "(200, 4)\n"
          ]
        }
      ]
    },
    {
      "cell_type": "code",
      "source": [
        "print(df.describe())"
      ],
      "metadata": {
        "colab": {
          "base_uri": "https://localhost:8080/"
        },
        "id": "JMRmzKIS3d7j",
        "outputId": "3ff1d8b9-8ec2-4bc3-f37a-3f30025a8348"
      },
      "execution_count": null,
      "outputs": [
        {
          "output_type": "stream",
          "name": "stdout",
          "text": [
            "               TV       Radio   Newspaper       Sales\n",
            "count  200.000000  200.000000  200.000000  200.000000\n",
            "mean   147.042500   23.264000   30.554000   15.130500\n",
            "std     85.854236   14.846809   21.778621    5.283892\n",
            "min      0.700000    0.000000    0.300000    1.600000\n",
            "25%     74.375000    9.975000   12.750000   11.000000\n",
            "50%    149.750000   22.900000   25.750000   16.000000\n",
            "75%    218.825000   36.525000   45.100000   19.050000\n",
            "max    296.400000   49.600000  114.000000   27.000000\n"
          ]
        }
      ]
    },
    {
      "cell_type": "code",
      "source": [
        "fig, axs = plt.subplots(3, figsize=(5,5))\n",
        "plt1=sns.boxplot(df['TV'], ax=axs[0])\n",
        "plt2=sns.boxplot(df['Newspaper'], ax=axs[1])\n",
        "plt3=sns.boxplot(df['Radio'], ax=axs[2])\n",
        "plt.tight_layout()\n",
        "#"
      ],
      "metadata": {
        "colab": {
          "base_uri": "https://localhost:8080/",
          "height": 506
        },
        "id": "uqYLMNCQ39cg",
        "outputId": "8ef8440c-8ba8-4909-a4e4-acb9c28d0235"
      },
      "execution_count": null,
      "outputs": [
        {
          "output_type": "display_data",
          "data": {
            "text/plain": [
              "<Figure size 500x500 with 3 Axes>"
            ],
            "image/png": "[encoded data removed]"
          },
          "metadata": {}
        }
      ]
    },
    {
      "cell_type": "code",
      "source": [
        "X=df['TV']\n",
        "y=df['Sales']"
      ],
      "metadata": {
        "id": "noNu9c2B47HM"
      },
      "execution_count": null,
      "outputs": []
    },
    {
      "cell_type": "code",
      "source": [
        "plt.scatter(X,y, color='blue', label='Scatter Plot')\n",
        "plt.xlabel('TV')\n",
        "plt.ylabel('Sales')\n",
        "plt.legend()\n",
        "plt.show()"
      ],
      "metadata": {
        "colab": {
          "base_uri": "https://localhost:8080/",
          "height": 449
        },
        "id": "zlb_wEpc5OBU",
        "outputId": "3acf8515-ff82-454e-c388-3d50cec233a8"
      },
      "execution_count": null,
      "outputs": [
        {
          "output_type": "display_data",
          "data": {
            "text/plain": [
              "<Figure size 640x480 with 1 Axes>"
            ],
            "image/png": "[encoded data removed]"
          },
          "metadata": {}
        }
      ]
    },
    {
      "cell_type": "code",
      "source": [
        "print(X.shape)\n",
        "print(y.shape)"
      ],
      "metadata": {
        "colab": {
          "base_uri": "https://localhost:8080/"
        },
        "id": "SUHYUUjT6v0s",
        "outputId": "d3002109-944c-4d33-bd0c-8ecb207f3932"
      },
      "execution_count": null,
      "outputs": [
        {
          "output_type": "stream",
          "name": "stdout",
          "text": [
            "(200,)\n",
            "(200,)\n"
          ]
        }
      ]
    },
    {
      "cell_type": "code",
      "source": [
        "X=X.reshape(-1,1)\n",
        "y=y.reshape(-1,1)"
      ],
      "metadata": {
        "id": "MzDhHWaQAAD2"
      },
      "execution_count": null,
      "outputs": []
    },
    {
      "cell_type": "code",
      "source": [
        "print(X.shape)\n",
        "print(y.shape)"
      ],
      "metadata": {
        "colab": {
          "base_uri": "https://localhost:8080/"
        },
        "id": "nybUJz0ZAR7f",
        "outputId": "1a0c3dae-6937-422b-f4ec-46c34d2b67e5"
      },
      "execution_count": null,
      "outputs": [
        {
          "output_type": "stream",
          "name": "stdout",
          "text": [
            "(200, 1)\n",
            "(200, 1)\n"
          ]
        }
      ]
    },
    {
      "cell_type": "code",
      "source": [
        "from sklearn.model_selection import train_test_split\n",
        "X_train, X_test, y_train, y_test = train_test_split(x, y, test_size=0.2, random_state=42)"
      ],
      "metadata": {
        "id": "eOJarCNp7_V9"
      },
      "execution_count": null,
      "outputs": []
    },
    {
      "cell_type": "code",
      "source": [
        "print(X_train.shape)\n",
        "print(y_train.shape)\n",
        "print(X_test.shape)\n",
        "print(y_test.shape)"
      ],
      "metadata": {
        "colab": {
          "base_uri": "https://localhost:8080/"
        },
        "id": "t26v6_6G7w1N",
        "outputId": "3ada6002-50ad-4c6e-db65-554f90649b56"
      },
      "execution_count": null,
      "outputs": [
        {
          "output_type": "stream",
          "name": "stdout",
          "text": [
            "(160,)\n",
            "(160, 1)\n",
            "(40,)\n",
            "(40, 1)\n"
          ]
        }
      ]
    },
    {
      "cell_type": "code",
      "source": [
        "from sklearn.linear_model import LinearRegression\n",
        "lm = LinearRegression()"
      ],
      "metadata": {
        "id": "jvBig_NH8kpN"
      },
      "execution_count": null,
      "outputs": []
    },
    {
      "source": [
        "# Reshape X_train to be a 2D array\n",
        "X_train = X_train.reshape(-1, 1)\n",
        "\n",
        "# Now you can fit the model\n",
        "lm.fit(X_train, y_train)"
      ],
      "cell_type": "code",
      "metadata": {
        "colab": {
          "base_uri": "https://localhost:8080/",
          "height": 75
        },
        "id": "IbYPh8xxAdR0",
        "outputId": "0d96334d-0c8f-4256-ea1a-439a080a9274"
      },
      "execution_count": null,
      "outputs": [
        {
          "output_type": "execute_result",
          "data": {
            "text/plain": [
              "LinearRegression()"
            ],
            "text/html": [
              "<style>#sk-container-id-1 {color: black;}#sk-container-id-1 pre{padding: 0;}#sk-container-id-1 div.sk-toggleable {background-color: white;}#sk-container-id-1 label.sk-toggleable__label {cursor: pointer;display: block;width: 100%;margin-bottom: 0;padding: 0.3em;box-sizing: border-box;text-align: center;}#sk-container-id-1 label.sk-toggleable__label-arrow:before {content: \"▸\";float: left;margin-right: 0.25em;color: #696969;}#sk-container-id-1 label.sk-toggleable__label-arrow:hover:before {color: black;}#sk-container-id-1 div.sk-estimator:hover label.sk-toggleable__label-arrow:before {color: black;}#sk-container-id-1 div.sk-toggleable__content {max-height: 0;max-width: 0;overflow: hidden;text-align: left;background-color: #f0f8ff;}#sk-container-id-1 div.sk-toggleable__content pre {margin: 0.2em;color: black;border-radius: 0.25em;background-color: #f0f8ff;}#sk-container-id-1 input.sk-toggleable__control:checked~div.sk-toggleable__content {max-height: 200px;max-width: 100%;overflow: auto;}#sk-container-id-1 input.sk-toggleable__control:checked~label.sk-toggleable__label-arrow:before {content: \"▾\";}#sk-container-id-1 div.sk-estimator input.sk-toggleable__control:checked~label.sk-toggleable__label {background-color: #d4ebff;}#sk-container-id-1 div.sk-label input.sk-toggleable__control:checked~label.sk-toggleable__label {background-color: #d4ebff;}#sk-container-id-1 input.sk-hidden--visually {border: 0;clip: rect(1px 1px 1px 1px);clip: rect(1px, 1px, 1px, 1px);height: 1px;margin: -1px;overflow: hidden;padding: 0;position: absolute;width: 1px;}#sk-container-id-1 div.sk-estimator {font-family: monospace;background-color: #f0f8ff;border: 1px dotted black;border-radius: 0.25em;box-sizing: border-box;margin-bottom: 0.5em;}#sk-container-id-1 div.sk-estimator:hover {background-color: #d4ebff;}#sk-container-id-1 div.sk-parallel-item::after {content: \"\";width: 100%;border-bottom: 1px solid gray;flex-grow: 1;}#sk-container-id-1 div.sk-label:hover label.sk-toggleable__label {background-color: #d4ebff;}#sk-container-id-1 div.sk-serial::before {content: \"\";position: absolute;border-left: 1px solid gray;box-sizing: border-box;top: 0;bottom: 0;left: 50%;z-index: 0;}#sk-container-id-1 div.sk-serial {display: flex;flex-direction: column;align-items: center;background-color: white;padding-right: 0.2em;padding-left: 0.2em;position: relative;}#sk-container-id-1 div.sk-item {position: relative;z-index: 1;}#sk-container-id-1 div.sk-parallel {display: flex;align-items: stretch;justify-content: center;background-color: white;position: relative;}#sk-container-id-1 div.sk-item::before, #sk-container-id-1 div.sk-parallel-item::before {content: \"\";position: absolute;border-left: 1px solid gray;box-sizing: border-box;top: 0;bottom: 0;left: 50%;z-index: -1;}#sk-container-id-1 div.sk-parallel-item {display: flex;flex-direction: column;z-index: 1;position: relative;background-color: white;}#sk-container-id-1 div.sk-parallel-item:first-child::after {align-self: flex-end;width: 50%;}#sk-container-id-1 div.sk-parallel-item:last-child::after {align-self: flex-start;width: 50%;}#sk-container-id-1 div.sk-parallel-item:only-child::after {width: 0;}#sk-container-id-1 div.sk-dashed-wrapped {border: 1px dashed gray;margin: 0 0.4em 0.5em 0.4em;box-sizing: border-box;padding-bottom: 0.4em;background-color: white;}#sk-container-id-1 div.sk-label label {font-family: monospace;font-weight: bold;display: inline-block;line-height: 1.2em;}#sk-container-id-1 div.sk-label-container {text-align: center;}#sk-container-id-1 div.sk-container {/* jupyter's `normalize.less` sets `[hidden] { display: none; }` but bootstrap.min.css set `[hidden] { display: none !important; }` so we also need the `!important` here to be able to override the default hidden behavior on the sphinx rendered scikit-learn.org. See: https://github.com/scikit-learn/scikit-learn/issues/21755 */display: inline-block !important;position: relative;}#sk-container-id-1 div.sk-text-repr-fallback {display: none;}</style><div id=\"sk-container-id-1\" class=\"sk-top-container\"><div class=\"sk-text-repr-fallback\"><pre>LinearRegression()</pre><b>In a Jupyter environment, please rerun this cell to show the HTML representation or trust the notebook. <br />On GitHub, the HTML representation is unable to render, please try loading this page with nbviewer.org.</b></div><div class=\"sk-container\" hidden><div class=\"sk-item\"><div class=\"sk-estimator sk-toggleable\"><input class=\"sk-toggleable__control sk-hidden--visually\" id=\"sk-estimator-id-1\" type=\"checkbox\" checked><label for=\"sk-estimator-id-1\" class=\"sk-toggleable__label sk-toggleable__label-arrow\">LinearRegression</label><div class=\"sk-toggleable__content\"><pre>LinearRegression()</pre></div></div></div></div></div>"
            ]
          },
          "metadata": {},
          "execution_count": 50
        }
      ]
    },
    {
      "cell_type": "code",
      "source": [],
      "metadata": {
        "id": "lM_ZGzXfAnJV"
      },
      "execution_count": null,
      "outputs": []
    },
    {
      "source": [
        "# Reshape X_test to be a 2D array\n",
        "X_test = X_test.reshape(-1, 1)\n",
        "\n",
        "# Now you can predict using the reshaped X_test\n",
        "y_pred = lm.predict(X_test)"
      ],
      "cell_type": "code",
      "metadata": {
        "id": "sHJB5EmzAvl9"
      },
      "execution_count": null,
      "outputs": []
    },
    {
      "cell_type": "code",
      "source": [
        "plt.scatter(X_train, y_train, color='blue')\n",
        "plt.plot(X_train, lm.predict(X_train), color='red')\n",
        "plt.title('Training Data')\n",
        "plt.xlabel('TV')\n",
        "plt.ylabel('Sales')\n",
        "plt.show()"
      ],
      "metadata": {
        "colab": {
          "base_uri": "https://localhost:8080/",
          "height": 472
        },
        "id": "Xyp5KmT49khd",
        "outputId": "9ea2235f-1d76-44ea-af78-ab75fdce4d6b"
      },
      "execution_count": null,
      "outputs": [
        {
          "output_type": "display_data",
          "data": {
            "text/plain": [
              "<Figure size 640x480 with 1 Axes>"
            ],
            "image/png": "[encoded data removed]"
          },
          "metadata": {}
        }
      ]
    },
    {
      "cell_type": "code",
      "source": [
        "plt.scatter(X_test, y_test, color='red')\n",
        "plt.plot"
      ],
      "metadata": {
        "colab": {
          "base_uri": "https://localhost:8080/",
          "height": 600
        },
        "id": "3YVm3PfN-Ijl",
        "outputId": "67fd65ce-7c5c-434d-99f8-43fba6d640cc"
      },
      "execution_count": null,
      "outputs": [
        {
          "output_type": "execute_result",
          "data": {
            "text/plain": [
              "<function matplotlib.pyplot.plot(*args, scalex=True, scaley=True, data=None, **kwargs)>"
            ],
            "text/html": [
              "<div style=\"max-width:800px; border: 1px solid var(--colab-border-color);\"><style>\n",
              "      pre.function-repr-contents {\n",
              "        overflow-x: auto;\n",
              "        padding: 8px 12px;\n",
              "        max-height: 500px;\n",
              "      }\n",
              "\n",
              "      pre.function-repr-contents.function-repr-contents-collapsed {\n",
              "        cursor: pointer;\n",
              "        max-height: 100px;\n",
              "      }\n",
              "    </style>\n",
              "    <pre style=\"white-space: initial; background:\n",
              "         var(--colab-secondary-surface-color); padding: 8px 12px;\n",
              "         border-bottom: 1px solid var(--colab-border-color);\"><b>matplotlib.pyplot.plot</b><br/>def plot(*args, scalex=True, scaley=True, data=None, **kwargs)</pre><pre class=\"function-repr-contents function-repr-contents-collapsed\" style=\"\"><a class=\"filepath\" style=\"display:none\" href=\"#\">/usr/local/lib/python3.10/dist-packages/matplotlib/pyplot.py</a>Plot y versus x as lines and/or markers.\n",
              "\n",
              "Call signatures::\n",
              "\n",
              "    plot([x], y, [fmt], *, data=None, **kwargs)\n",
              "    plot([x], y, [fmt], [x2], y2, [fmt2], ..., **kwargs)\n",
              "\n",
              "The coordinates of the points or line nodes are given by *x*, *y*.\n",
              "\n",
              "The optional parameter *fmt* is a convenient way for defining basic\n",
              "formatting like color, marker and linestyle. It&#x27;s a shortcut string\n",
              "notation described in the *Notes* section below.\n",
              "\n",
              "&gt;&gt;&gt; plot(x, y)        # plot x and y using default line style and color\n",
              "&gt;&gt;&gt; plot(x, y, &#x27;bo&#x27;)  # plot x and y using blue circle markers\n",
              "&gt;&gt;&gt; plot(y)           # plot y using x as index array 0..N-1\n",
              "&gt;&gt;&gt; plot(y, &#x27;r+&#x27;)     # ditto, but with red plusses\n",
              "\n",
              "You can use `.Line2D` properties as keyword arguments for more\n",
              "control on the appearance. Line properties and *fmt* can be mixed.\n",
              "The following two calls yield identical results:\n",
              "\n",
              "&gt;&gt;&gt; plot(x, y, &#x27;go--&#x27;, linewidth=2, markersize=12)\n",
              "&gt;&gt;&gt; plot(x, y, color=&#x27;green&#x27;, marker=&#x27;o&#x27;, linestyle=&#x27;dashed&#x27;,\n",
              "...      linewidth=2, markersize=12)\n",
              "\n",
              "When conflicting with *fmt*, keyword arguments take precedence.\n",
              "\n",
              "\n",
              "**Plotting labelled data**\n",
              "\n",
              "There&#x27;s a convenient way for plotting objects with labelled data (i.e.\n",
              "data that can be accessed by index ``obj[&#x27;y&#x27;]``). Instead of giving\n",
              "the data in *x* and *y*, you can provide the object in the *data*\n",
              "parameter and just give the labels for *x* and *y*::\n",
              "\n",
              "&gt;&gt;&gt; plot(&#x27;xlabel&#x27;, &#x27;ylabel&#x27;, data=obj)\n",
              "\n",
              "All indexable objects are supported. This could e.g. be a `dict`, a\n",
              "`pandas.DataFrame` or a structured numpy array.\n",
              "\n",
              "\n",
              "**Plotting multiple sets of data**\n",
              "\n",
              "There are various ways to plot multiple sets of data.\n",
              "\n",
              "- The most straight forward way is just to call `plot` multiple times.\n",
              "  Example:\n",
              "\n",
              "  &gt;&gt;&gt; plot(x1, y1, &#x27;bo&#x27;)\n",
              "  &gt;&gt;&gt; plot(x2, y2, &#x27;go&#x27;)\n",
              "\n",
              "- If *x* and/or *y* are 2D arrays a separate data set will be drawn\n",
              "  for every column. If both *x* and *y* are 2D, they must have the\n",
              "  same shape. If only one of them is 2D with shape (N, m) the other\n",
              "  must have length N and will be used for every data set m.\n",
              "\n",
              "  Example:\n",
              "\n",
              "  &gt;&gt;&gt; x = [1, 2, 3]\n",
              "  &gt;&gt;&gt; y = np.array([[1, 2], [3, 4], [5, 6]])\n",
              "  &gt;&gt;&gt; plot(x, y)\n",
              "\n",
              "  is equivalent to:\n",
              "\n",
              "  &gt;&gt;&gt; for col in range(y.shape[1]):\n",
              "  ...     plot(x, y[:, col])\n",
              "\n",
              "- The third way is to specify multiple sets of *[x]*, *y*, *[fmt]*\n",
              "  groups::\n",
              "\n",
              "  &gt;&gt;&gt; plot(x1, y1, &#x27;g^&#x27;, x2, y2, &#x27;g-&#x27;)\n",
              "\n",
              "  In this case, any additional keyword argument applies to all\n",
              "  datasets. Also, this syntax cannot be combined with the *data*\n",
              "  parameter.\n",
              "\n",
              "By default, each line is assigned a different style specified by a\n",
              "&#x27;style cycle&#x27;. The *fmt* and line property parameters are only\n",
              "necessary if you want explicit deviations from these defaults.\n",
              "Alternatively, you can also change the style cycle using\n",
              ":rc:`axes.prop_cycle`.\n",
              "\n",
              "\n",
              "Parameters\n",
              "----------\n",
              "x, y : array-like or scalar\n",
              "    The horizontal / vertical coordinates of the data points.\n",
              "    *x* values are optional and default to ``range(len(y))``.\n",
              "\n",
              "    Commonly, these parameters are 1D arrays.\n",
              "\n",
              "    They can also be scalars, or two-dimensional (in that case, the\n",
              "    columns represent separate data sets).\n",
              "\n",
              "    These arguments cannot be passed as keywords.\n",
              "\n",
              "fmt : str, optional\n",
              "    A format string, e.g. &#x27;ro&#x27; for red circles. See the *Notes*\n",
              "    section for a full description of the format strings.\n",
              "\n",
              "    Format strings are just an abbreviation for quickly setting\n",
              "    basic line properties. All of these and more can also be\n",
              "    controlled by keyword arguments.\n",
              "\n",
              "    This argument cannot be passed as keyword.\n",
              "\n",
              "data : indexable object, optional\n",
              "    An object with labelled data. If given, provide the label names to\n",
              "    plot in *x* and *y*.\n",
              "\n",
              "    .. note::\n",
              "        Technically there&#x27;s a slight ambiguity in calls where the\n",
              "        second label is a valid *fmt*. ``plot(&#x27;n&#x27;, &#x27;o&#x27;, data=obj)``\n",
              "        could be ``plt(x, y)`` or ``plt(y, fmt)``. In such cases,\n",
              "        the former interpretation is chosen, but a warning is issued.\n",
              "        You may suppress the warning by adding an empty format string\n",
              "        ``plot(&#x27;n&#x27;, &#x27;o&#x27;, &#x27;&#x27;, data=obj)``.\n",
              "\n",
              "Returns\n",
              "-------\n",
              "list of `.Line2D`\n",
              "    A list of lines representing the plotted data.\n",
              "\n",
              "Other Parameters\n",
              "----------------\n",
              "scalex, scaley : bool, default: True\n",
              "    These parameters determine if the view limits are adapted to the\n",
              "    data limits. The values are passed on to\n",
              "    `~.axes.Axes.autoscale_view`.\n",
              "\n",
              "**kwargs : `.Line2D` properties, optional\n",
              "    *kwargs* are used to specify properties like a line label (for\n",
              "    auto legends), linewidth, antialiasing, marker face color.\n",
              "    Example::\n",
              "\n",
              "    &gt;&gt;&gt; plot([1, 2, 3], [1, 2, 3], &#x27;go-&#x27;, label=&#x27;line 1&#x27;, linewidth=2)\n",
              "    &gt;&gt;&gt; plot([1, 2, 3], [1, 4, 9], &#x27;rs&#x27;, label=&#x27;line 2&#x27;)\n",
              "\n",
              "    If you specify multiple lines with one plot call, the kwargs apply\n",
              "    to all those lines. In case the label object is iterable, each\n",
              "    element is used as labels for each set of data.\n",
              "\n",
              "    Here is a list of available `.Line2D` properties:\n",
              "\n",
              "    Properties:\n",
              "    agg_filter: a filter function, which takes a (m, n, 3) float array and a dpi value, and returns a (m, n, 3) array and two offsets from the bottom left corner of the image\n",
              "    alpha: scalar or None\n",
              "    animated: bool\n",
              "    antialiased or aa: bool\n",
              "    clip_box: `.Bbox`\n",
              "    clip_on: bool\n",
              "    clip_path: Patch or (Path, Transform) or None\n",
              "    color or c: color\n",
              "    dash_capstyle: `.CapStyle` or {&#x27;butt&#x27;, &#x27;projecting&#x27;, &#x27;round&#x27;}\n",
              "    dash_joinstyle: `.JoinStyle` or {&#x27;miter&#x27;, &#x27;round&#x27;, &#x27;bevel&#x27;}\n",
              "    dashes: sequence of floats (on/off ink in points) or (None, None)\n",
              "    data: (2, N) array or two 1D arrays\n",
              "    drawstyle or ds: {&#x27;default&#x27;, &#x27;steps&#x27;, &#x27;steps-pre&#x27;, &#x27;steps-mid&#x27;, &#x27;steps-post&#x27;}, default: &#x27;default&#x27;\n",
              "    figure: `.Figure`\n",
              "    fillstyle: {&#x27;full&#x27;, &#x27;left&#x27;, &#x27;right&#x27;, &#x27;bottom&#x27;, &#x27;top&#x27;, &#x27;none&#x27;}\n",
              "    gapcolor: color or None\n",
              "    gid: str\n",
              "    in_layout: bool\n",
              "    label: object\n",
              "    linestyle or ls: {&#x27;-&#x27;, &#x27;--&#x27;, &#x27;-.&#x27;, &#x27;:&#x27;, &#x27;&#x27;, (offset, on-off-seq), ...}\n",
              "    linewidth or lw: float\n",
              "    marker: marker style string, `~.path.Path` or `~.markers.MarkerStyle`\n",
              "    markeredgecolor or mec: color\n",
              "    markeredgewidth or mew: float\n",
              "    markerfacecolor or mfc: color\n",
              "    markerfacecoloralt or mfcalt: color\n",
              "    markersize or ms: float\n",
              "    markevery: None or int or (int, int) or slice or list[int] or float or (float, float) or list[bool]\n",
              "    mouseover: bool\n",
              "    path_effects: `.AbstractPathEffect`\n",
              "    picker: float or callable[[Artist, Event], tuple[bool, dict]]\n",
              "    pickradius: unknown\n",
              "    rasterized: bool\n",
              "    sketch_params: (scale: float, length: float, randomness: float)\n",
              "    snap: bool or None\n",
              "    solid_capstyle: `.CapStyle` or {&#x27;butt&#x27;, &#x27;projecting&#x27;, &#x27;round&#x27;}\n",
              "    solid_joinstyle: `.JoinStyle` or {&#x27;miter&#x27;, &#x27;round&#x27;, &#x27;bevel&#x27;}\n",
              "    transform: unknown\n",
              "    url: str\n",
              "    visible: bool\n",
              "    xdata: 1D array\n",
              "    ydata: 1D array\n",
              "    zorder: float\n",
              "\n",
              "See Also\n",
              "--------\n",
              "scatter : XY scatter plot with markers of varying size and/or color (\n",
              "    sometimes also called bubble chart).\n",
              "\n",
              "Notes\n",
              "-----\n",
              "**Format Strings**\n",
              "\n",
              "A format string consists of a part for color, marker and line::\n",
              "\n",
              "    fmt = &#x27;[marker][line][color]&#x27;\n",
              "\n",
              "Each of them is optional. If not provided, the value from the style\n",
              "cycle is used. Exception: If ``line`` is given, but no ``marker``,\n",
              "the data will be a line without markers.\n",
              "\n",
              "Other combinations such as ``[color][marker][line]`` are also\n",
              "supported, but note that their parsing may be ambiguous.\n",
              "\n",
              "**Markers**\n",
              "\n",
              "=============   ===============================\n",
              "character       description\n",
              "=============   ===============================\n",
              "``&#x27;.&#x27;``         point marker\n",
              "``&#x27;,&#x27;``         pixel marker\n",
              "``&#x27;o&#x27;``         circle marker\n",
              "``&#x27;v&#x27;``         triangle_down marker\n",
              "``&#x27;^&#x27;``         triangle_up marker\n",
              "``&#x27;&lt;&#x27;``         triangle_left marker\n",
              "``&#x27;&gt;&#x27;``         triangle_right marker\n",
              "``&#x27;1&#x27;``         tri_down marker\n",
              "``&#x27;2&#x27;``         tri_up marker\n",
              "``&#x27;3&#x27;``         tri_left marker\n",
              "``&#x27;4&#x27;``         tri_right marker\n",
              "``&#x27;8&#x27;``         octagon marker\n",
              "``&#x27;s&#x27;``         square marker\n",
              "``&#x27;p&#x27;``         pentagon marker\n",
              "``&#x27;P&#x27;``         plus (filled) marker\n",
              "``&#x27;*&#x27;``         star marker\n",
              "``&#x27;h&#x27;``         hexagon1 marker\n",
              "``&#x27;H&#x27;``         hexagon2 marker\n",
              "``&#x27;+&#x27;``         plus marker\n",
              "``&#x27;x&#x27;``         x marker\n",
              "``&#x27;X&#x27;``         x (filled) marker\n",
              "``&#x27;D&#x27;``         diamond marker\n",
              "``&#x27;d&#x27;``         thin_diamond marker\n",
              "``&#x27;|&#x27;``         vline marker\n",
              "``&#x27;_&#x27;``         hline marker\n",
              "=============   ===============================\n",
              "\n",
              "**Line Styles**\n",
              "\n",
              "=============    ===============================\n",
              "character        description\n",
              "=============    ===============================\n",
              "``&#x27;-&#x27;``          solid line style\n",
              "``&#x27;--&#x27;``         dashed line style\n",
              "``&#x27;-.&#x27;``         dash-dot line style\n",
              "``&#x27;:&#x27;``          dotted line style\n",
              "=============    ===============================\n",
              "\n",
              "Example format strings::\n",
              "\n",
              "    &#x27;b&#x27;    # blue markers with default shape\n",
              "    &#x27;or&#x27;   # red circles\n",
              "    &#x27;-g&#x27;   # green solid line\n",
              "    &#x27;--&#x27;   # dashed line with default color\n",
              "    &#x27;^k:&#x27;  # black triangle_up markers connected by a dotted line\n",
              "\n",
              "**Colors**\n",
              "\n",
              "The supported color abbreviations are the single letter codes\n",
              "\n",
              "=============    ===============================\n",
              "character        color\n",
              "=============    ===============================\n",
              "``&#x27;b&#x27;``          blue\n",
              "``&#x27;g&#x27;``          green\n",
              "``&#x27;r&#x27;``          red\n",
              "``&#x27;c&#x27;``          cyan\n",
              "``&#x27;m&#x27;``          magenta\n",
              "``&#x27;y&#x27;``          yellow\n",
              "``&#x27;k&#x27;``          black\n",
              "``&#x27;w&#x27;``          white\n",
              "=============    ===============================\n",
              "\n",
              "and the ``&#x27;CN&#x27;`` colors that index into the default property cycle.\n",
              "\n",
              "If the color is the only part of the format string, you can\n",
              "additionally use any  `matplotlib.colors` spec, e.g. full names\n",
              "(``&#x27;green&#x27;``) or hex strings (``&#x27;#008000&#x27;``).</pre>\n",
              "      <script>\n",
              "      if (google.colab.kernel.accessAllowed && google.colab.files && google.colab.files.view) {\n",
              "        for (const element of document.querySelectorAll('.filepath')) {\n",
              "          element.style.display = 'block'\n",
              "          element.onclick = (event) => {\n",
              "            event.preventDefault();\n",
              "            event.stopPropagation();\n",
              "            google.colab.files.view(element.textContent, 2810);\n",
              "          };\n",
              "        }\n",
              "      }\n",
              "      for (const element of document.querySelectorAll('.function-repr-contents')) {\n",
              "        element.onclick = (event) => {\n",
              "          event.preventDefault();\n",
              "          event.stopPropagation();\n",
              "          element.classList.toggle('function-repr-contents-collapsed');\n",
              "        };\n",
              "      }\n",
              "      </script>\n",
              "      </div>"
            ]
          },
          "metadata": {},
          "execution_count": 54
        },
        {
          "output_type": "display_data",
          "data": {
            "text/plain": [
              "<Figure size 640x480 with 1 Axes>"
            ],
            "image/png": "[encoded data removed]"
          },
          "metadata": {}
        }
      ]
    }
  ]
}